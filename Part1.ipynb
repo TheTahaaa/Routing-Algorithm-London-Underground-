{
 "cells": [
  {
   "cell_type": "code",
   "execution_count": 1,
   "id": "f63cf0ba-02f1-4a4a-8d55-76c63dcb3c1c",
   "metadata": {},
   "outputs": [
    {
     "data": {
      "text/html": [
       "<div>\n",
       "<style scoped>\n",
       "    .dataframe tbody tr th:only-of-type {\n",
       "        vertical-align: middle;\n",
       "    }\n",
       "\n",
       "    .dataframe tbody tr th {\n",
       "        vertical-align: top;\n",
       "    }\n",
       "\n",
       "    .dataframe thead th {\n",
       "        text-align: right;\n",
       "    }\n",
       "</style>\n",
       "<table border=\"1\" class=\"dataframe\">\n",
       "  <thead>\n",
       "    <tr style=\"text-align: right;\">\n",
       "      <th></th>\n",
       "      <th>0</th>\n",
       "      <th>1</th>\n",
       "      <th>2</th>\n",
       "      <th>3</th>\n",
       "      <th>4</th>\n",
       "      <th>5</th>\n",
       "    </tr>\n",
       "  </thead>\n",
       "  <tbody>\n",
       "    <tr>\n",
       "      <th>0</th>\n",
       "      <td>Harrow &amp; Wealdstone</td>\n",
       "      <td>Kenton</td>\n",
       "      <td>Bakerloo</td>\n",
       "      <td>3</td>\n",
       "      <td>5</td>\n",
       "      <td>0</td>\n",
       "    </tr>\n",
       "    <tr>\n",
       "      <th>1</th>\n",
       "      <td>Kenton</td>\n",
       "      <td>South Kenton</td>\n",
       "      <td>Bakerloo</td>\n",
       "      <td>2</td>\n",
       "      <td>4</td>\n",
       "      <td>0</td>\n",
       "    </tr>\n",
       "    <tr>\n",
       "      <th>2</th>\n",
       "      <td>South Kenton</td>\n",
       "      <td>North Wembley</td>\n",
       "      <td>Bakerloo</td>\n",
       "      <td>2</td>\n",
       "      <td>4</td>\n",
       "      <td>0</td>\n",
       "    </tr>\n",
       "    <tr>\n",
       "      <th>3</th>\n",
       "      <td>North Wembley</td>\n",
       "      <td>Wembley Central</td>\n",
       "      <td>Bakerloo</td>\n",
       "      <td>2</td>\n",
       "      <td>4</td>\n",
       "      <td>0</td>\n",
       "    </tr>\n",
       "    <tr>\n",
       "      <th>4</th>\n",
       "      <td>Wembley Central</td>\n",
       "      <td>Stonebridge Park</td>\n",
       "      <td>Bakerloo</td>\n",
       "      <td>3</td>\n",
       "      <td>4</td>\n",
       "      <td>0</td>\n",
       "    </tr>\n",
       "  </tbody>\n",
       "</table>\n",
       "</div>"
      ],
      "text/plain": [
       "                     0                 1         2  3  4  5\n",
       "0  Harrow & Wealdstone            Kenton  Bakerloo  3  5  0\n",
       "1               Kenton      South Kenton  Bakerloo  2  4  0\n",
       "2         South Kenton     North Wembley  Bakerloo  2  4  0\n",
       "3        North Wembley   Wembley Central  Bakerloo  2  4  0\n",
       "4      Wembley Central  Stonebridge Park  Bakerloo  3  4  0"
      ]
     },
     "execution_count": 1,
     "metadata": {},
     "output_type": "execute_result"
    }
   ],
   "source": [
    "import pandas as pd\n",
    "\n",
    "df = pd.read_csv(\"tubedata.csv\", header=None) \n",
    "df.head()\n",
    "    "
   ]
  },
  {
   "cell_type": "code",
   "execution_count": 2,
   "id": "d645b596-d61f-4841-8f2b-45c6ddcd6e0c",
   "metadata": {},
   "outputs": [],
   "source": [
    "from collections import defaultdict\n",
    "\n",
    "def creat_tube_map(df):\n",
    "    station_dict = defaultdict(list) \n",
    "    zone_dict = defaultdict(set)\n",
    "    station_line_dict = defaultdict(set)\n",
    "    # get data row by row\n",
    "    for index, row in df.iterrows():\n",
    "        start_station = row[0] \n",
    "        end_station = row[1] \n",
    "        line = row[2]\n",
    "        act_cost = int(row[3]) \n",
    "        zone1 = row[4]\n",
    "        zone2 = row[5]\n",
    "        # station dict. of child station tuples (child name, cost from parent to the child) \n",
    "        # {\"Mile End\": [(\"Stepney Green\", 2), (\"Wembley\", 1)]}\n",
    "        \n",
    "        if (end_station, act_cost,line) not in station_dict[start_station]:\n",
    "            station_dict[start_station].append((end_station, act_cost, line))\n",
    "        station_line_dict[start_station].add(line)\n",
    "        if (start_station, act_cost, line) not in station_dict[end_station]:\n",
    "            station_dict[end_station].append((start_station, act_cost, line))\n",
    "        station_line_dict[end_station].add(line)\n",
    "        \n",
    "        # we add the main zone\n",
    "        zone_dict[start_station].add(zone1) # we add the secondary zone\n",
    "        if zone2 != \"0\":\n",
    "            zone_dict[start_station].add(zone2)\n",
    "            # if the secondary zone is not 0 it’s the main zone for the ending station \n",
    "            zone_dict[end_station].add(zone2)\n",
    "        else:\n",
    "            # otherwise the main zone for the ending station is the same as the starting station \n",
    "            zone_dict[end_station].add(zone1)\n",
    "            \n",
    "    return station_dict, zone_dict, station_line_dict"
   ]
  },
  {
   "cell_type": "code",
   "execution_count": 3,
   "id": "4601f6c9-3db6-43aa-97da-9b5b8cc6701e",
   "metadata": {},
   "outputs": [],
   "source": [
    "# for station in station_dict.keys():\n",
    "#         if station == \"Lensington\":\n",
    "#             del station_dict['Lensington']\n",
    "#         if station == \"Wimbeldon\":\n",
    "#             del station_dict[\"Wimbeldon\"]\n",
    "#         if station == 'Kensington':\n",
    "#             del station_dict[\"Kensington\"]\n",
    "#         if station == 'Elmers End':\n",
    "#             del station_dict['Elmers End']\n",
    "#         if station == 'Mitcham Junction':\n",
    "#             del station_dict['Mitcham Junction']"
   ]
  },
  {
   "cell_type": "code",
   "execution_count": 4,
   "id": "658a8cd9-3090-47ca-9251-75c7d04b112a",
   "metadata": {},
   "outputs": [
    {
     "name": "stdout",
     "output_type": "stream",
     "text": [
      "[('Bank/Monument', 2, 'Central'), ('Bethnal Green', 3, 'Central'), ('Moorgate', 2, 'Circle'), ('Aldgate', 2, 'Circle'), ('Moorgate', 2, 'Hammersmith & City'), ('Aldgate East', 4, 'Hammersmith & City'), ('Aldgate', 2, 'Metropolitan'), ('Moorgate', 2, 'Metropolitan')]\n"
     ]
    }
   ],
   "source": [
    "station_dict, zone_dict, station_line_dict = creat_tube_map(df)\n",
    "print(station_dict['Liverpool Street'])\n",
    "# print('------------------------------------')\n",
    "# print('------------------------------------')\n",
    "# print(zone_dict)\n",
    "# print('------------------------------------')\n",
    "# print('------------------------------------')\n",
    "# print(station_line_dict)"
   ]
  },
  {
   "cell_type": "code",
   "execution_count": 5,
   "id": "a2b48837-7db8-4621-821a-e396cae17ec0",
   "metadata": {},
   "outputs": [
    {
     "data": {
      "text/plain": [
       "[('West Brompton', 2, 'District'),\n",
       " ('Olympia', 3, 'District'),\n",
       " ('High Street Kensington', 3, 'District'),\n",
       " ('West Kensington', 2, 'District'),\n",
       " ('Gloucester Road', 3, 'District'),\n",
       " ('Gloucester Road', 2, 'Piccadilly'),\n",
       " ('Barons Court', 3, 'Piccadilly')]"
      ]
     },
     "execution_count": 5,
     "metadata": {},
     "output_type": "execute_result"
    }
   ],
   "source": [
    "station_dict[\"Earls' Court\"]"
   ]
  },
  {
   "cell_type": "markdown",
   "id": "91b4eaf5-36e8-4d7d-bb6a-475b8d972868",
   "metadata": {
    "tags": []
   },
   "source": [
    "# 2-1 & 2-2 Implement and Compare DFS, BFS and USC"
   ]
  },
  {
   "cell_type": "markdown",
   "id": "244be7ad-d2f3-4d8f-a05b-7b371450b7f4",
   "metadata": {
    "tags": []
   },
   "source": [
    "## 2-1-1 DFS"
   ]
  },
  {
   "cell_type": "code",
   "execution_count": 6,
   "id": "3179f5ed-c282-4d82-8458-1073366b302e",
   "metadata": {},
   "outputs": [],
   "source": [
    "def dfs(graph, start, destination, already_visited, path, line, cost):\n",
    "    path += [(start, line, cost)]\n",
    "    ## Path structure: [(station, line, cost), (station, line, cost), ...]\n",
    "    already_visited += [(start, line)]\n",
    "    if start == destination:\n",
    "        return path\n",
    "    for neighbour, weight, line in graph[start]:\n",
    "        if (neighbour, line) in already_visited:\n",
    "            continue\n",
    "        result = dfs(graph, neighbour, destination, already_visited, path, line=line, cost=weight)\n",
    "        if result != None:\n",
    "            return result\n",
    "        \n",
    "    ## current node reaches a dead end, so we remove it from path, and return None\n",
    "    path.pop()\n",
    "    return\n",
    "            "
   ]
  },
  {
   "cell_type": "code",
   "execution_count": 7,
   "id": "2cbaaf3e-498c-411e-92f0-a3fdbe977e57",
   "metadata": {},
   "outputs": [
    {
     "name": "stdout",
     "output_type": "stream",
     "text": [
      "This is the path from Canada Water to Stratford founded by DFS:\n",
      "[('Canada Water', None, 0), ('Rotherhithe', 'East London', 1), ('Wapping', 'East London', 1), ('Shadwell', 'East London', 1), ('Whitechapel', 'East London', 2), ('Aldgate East', 'District', 2), ('Tower Hill', 'District', 2), ('Aldgate', 'Circle', 4), ('Liverpool Street', 'Circle', 2), ('Bank/Monument', 'Central', 2), (\"St. Paul's\", 'Central', 2), ('Chancery Lane', 'Central', 2), ('Holborn', 'Central', 1), ('Tottenham Court Road', 'Central', 2), ('Oxford Circus', 'Central', 2), (\"Regent's Park\", 'Bakerloo', 2), ('Baker Street', 'Bakerloo', 2), ('Marylebone', 'Bakerloo', 1), ('Edgware Road', 'Bakerloo', 2), ('Paddington', 'Bakerloo', 3), ('Edgware Road', 'Circle', 3), ('Paddington', 'Circle', 3), ('Bayswater', 'Circle', 2), ('Notting Hill Gate', 'Circle', 2), ('Holland Park', 'Central', 2), (\"Shepherd's Bush\", 'Central', 2), ('White City', 'Central', 3), ('East Acton', 'Central', 3), ('North Acton', 'Central', 2), ('West Acton', 'Central', 2), ('Ealing Broadway', 'Central', 3), ('Ealing Common', 'District', 4), ('Acton Town', 'District', 2), ('Chiswick Park', 'District', 2), ('Turnham Green', 'District', 2), ('Stamford Brook', 'District', 1), ('Ravenscourt Park', 'District', 2), ('Hammersmith', 'District', 2), ('Barons Court', 'District', 1), ('West Kensington', 'District', 2), (\"Earls' Court\", 'District', 2), ('High Street Kensington', 'District', 3), ('Gloucester Road', 'Circle', 4), ('South Kensington', 'Circle', 1), ('Sloane Square', 'Circle', 2), ('Victoria', 'Circle', 2), (\"St. James' Park\", 'Circle', 2), ('Westminster', 'Circle', 2), ('Embankment', 'Circle', 2), ('Charing Cross', 'Bakerloo', 1), ('Piccadilly Circus', 'Bakerloo', 2), ('Oxford Circus', 'Bakerloo', 2), ('Bond Street', 'Central', 1), ('Marble Arch', 'Central', 1), ('Lancaster Gate', 'Central', 3), ('Queensway', 'Central', 1), ('Notting Hill Gate', 'Central', 2), ('High Street Kensington', 'Circle', 3), ('Notting Hill Gate', 'District', 3), ('Bayswater', 'District', 3), ('Paddington', 'District', 2), ('Edgware Road', 'District', 3), ('Baker Street', 'Circle', 3), ('Great Portland Street', 'Circle', 3), ('Euston Square', 'Circle', 2), (\"King's Cross St. Pancras\", 'Circle', 2), ('Farringdon', 'Circle', 4), ('Barbican', 'Circle', 1), ('Moorgate', 'Circle', 2), ('Barbican', 'Hammersmith & City', 2), ('Farringdon', 'Hammersmith & City', 1), (\"King's Cross St. Pancras\", 'Hammersmith & City', 4), ('Euston Square', 'Hammersmith & City', 2), ('Great Portland Street', 'Hammersmith & City', 2), ('Baker Street', 'Hammersmith & City', 3), ('Edgware Road', 'Hammersmith & City', 3), ('Paddington', 'Hammersmith & City', 4), ('Royal Oak', 'Hammersmith & City', 1), ('Westbourne Park', 'Hammersmith & City', 2), ('Ladbroke Grove', 'Hammersmith & City', 2), ('Latimer Road', 'Hammersmith & City', 1), (\"Shepherd's Bush\", 'Hammersmith & City', 2), ('Goldhawk Road', 'Hammersmith & City', 1), ('Hammersmith', 'Hammersmith & City', 2), ('Barons Court', 'Piccadilly', 2), (\"Earls' Court\", 'Piccadilly', 3), ('Gloucester Road', 'District', 3), ('South Kensington', 'District', 1), ('Sloane Square', 'District', 2), ('Victoria', 'District', 2), (\"St. James' Park\", 'District', 2), ('Westminster', 'District', 2), ('Embankment', 'District', 2), ('Waterloo', 'Bakerloo', 2), ('Embankment', 'Bakerloo', 2), ('Temple', 'Circle', 2), ('Blackfriars', 'Circle', 1), ('Mansion House', 'Circle', 1), ('Cannon Street', 'Circle', 1), ('Bank/Monument', 'Circle', 2), ('Liverpool Street', 'Central', 2), ('Bethnal Green', 'Central', 3), ('Mile End', 'Central', 2), ('Stratford', 'Central', 4)]\n",
      "--------------------------------------\n",
      "Number of expanded nodes is:\n",
      "137\n",
      "--------------------------------------\n",
      "The path cost is:\n",
      "218\n"
     ]
    }
   ],
   "source": [
    "## Test dfs\n",
    "start_station = 'Canada Water'\n",
    "end_station = 'Stratford'\n",
    "already_visited = []\n",
    "path = []\n",
    "line = None\n",
    "cost=0\n",
    "final_path = dfs(station_dict, start_station, end_station, already_visited, path, line, cost)\n",
    "print('This is the path from {} to {} founded by DFS:'.format(start_station, end_station))\n",
    "print(final_path)\n",
    "print('--------------------------------------')\n",
    "print('Number of expanded nodes is:')\n",
    "print(len(already_visited))\n",
    "print('--------------------------------------')\n",
    "print('The path cost is:')\n",
    "print(sum([x[2] for x in final_path]))"
   ]
  },
  {
   "cell_type": "code",
   "execution_count": 8,
   "id": "86f29239-0b13-4f38-8726-86fd18194887",
   "metadata": {},
   "outputs": [
    {
     "name": "stdout",
     "output_type": "stream",
     "text": [
      "This is the path from Canada Water to Stratford founded by DFS with reverse order:\n",
      "[('Canada Water', None, 0), ('Canary Wharf', 'Jubilee', 3), ('North Greenwich', 'Jubilee', 3), ('Canning Town', 'Jubilee', 3), ('West Ham', 'Jubilee', 3), ('Stratford', 'Jubilee', 3)]\n",
      "--------------------------------------\n",
      "Number of expanded nodes is:\n",
      "6\n",
      "--------------------------------------\n",
      "The path cost is:\n",
      "15\n"
     ]
    }
   ],
   "source": [
    "import copy\n",
    "\n",
    "## Now we calculate the search in reverse order\n",
    "reverse_station_dict = copy.deepcopy(station_dict)\n",
    "for station in reverse_station_dict.keys():\n",
    "    reverse_station_dict[station].reverse()\n",
    "    \n",
    "start_station = 'Canada Water'\n",
    "end_station = 'Stratford'\n",
    "already_visited = []\n",
    "path = []\n",
    "line = None\n",
    "cost=0\n",
    "final_path = dfs(reverse_station_dict, start_station, end_station, already_visited, path, line, cost)\n",
    "print('This is the path from {} to {} founded by DFS with reverse order:'.format(start_station, end_station))\n",
    "print(final_path)\n",
    "print('--------------------------------------')\n",
    "print('Number of expanded nodes is:')\n",
    "print(len(already_visited))\n",
    "print('--------------------------------------')\n",
    "print('The path cost is:')\n",
    "print(sum([x[2] for x in final_path]))"
   ]
  },
  {
   "cell_type": "markdown",
   "id": "d51ddc2a-b713-4226-af93-dd9a3917962e",
   "metadata": {},
   "source": [
    "## 2-1-2 BFS"
   ]
  },
  {
   "cell_type": "code",
   "execution_count": 9,
   "id": "0fe1947f-7c89-4f5f-ab76-fa04f4f468e2",
   "metadata": {},
   "outputs": [],
   "source": [
    "def bfs(graph, start, destination, already_visited, line, cost):\n",
    "    queue = []\n",
    "    queue.append([(start, line, cost)])\n",
    "    ## Queue structure: [[(station, line, cost), (station, line, cost), ()], [(),(),(),...]]\n",
    "    while queue:\n",
    "        ## Take first element\n",
    "        path = queue.pop(0)\n",
    "        ## Take the last node of the path to continue\n",
    "        node = path[-1][0]\n",
    "        line = path[-1][1]\n",
    "        if (node, line) not in already_visited:\n",
    "            already_visited.append((node, line))\n",
    "            for neighbour, cost, line in graph[node]:\n",
    "                # already_visited.append(neighbour)\n",
    "                queue.append( path+[(neighbour, line, cost)] )\n",
    "                if neighbour == destination:\n",
    "                    already_visited.append((neighbour, line))\n",
    "                    return path+[(neighbour, line, cost)]\n",
    "    return None\n",
    "\n"
   ]
  },
  {
   "cell_type": "code",
   "execution_count": 10,
   "id": "cf69a793-4e70-40c2-9b0b-5efb303a1bc5",
   "metadata": {},
   "outputs": [
    {
     "name": "stdout",
     "output_type": "stream",
     "text": [
      "This is the path from Canada Water to Stratford founded by BFS:\n",
      "[('Canada Water', None, 0), ('Canary Wharf', 'Jubilee', 3), ('North Greenwich', 'Jubilee', 3), ('Canning Town', 'Jubilee', 3), ('West Ham', 'Jubilee', 3), ('Stratford', 'Jubilee', 3)]\n",
      "--------------------------------------\n",
      "Number of expanded nodes is:\n",
      "31\n",
      "--------------------------------------\n",
      "The path cost is:\n",
      "15\n"
     ]
    }
   ],
   "source": [
    "## Test BFS\n",
    "start_station = 'Canada Water'\n",
    "end_station = 'Stratford'\n",
    "already_visited = []\n",
    "line = None\n",
    "cost = 0\n",
    "final_path = bfs(station_dict, start_station, end_station, already_visited, line, cost)\n",
    "print('This is the path from {} to {} founded by BFS:'.format(start_station, end_station))\n",
    "print(final_path)\n",
    "print('--------------------------------------')\n",
    "print('Number of expanded nodes is:')\n",
    "print(len(already_visited))\n",
    "print('--------------------------------------')\n",
    "print('The path cost is:')\n",
    "print(sum([x[2] for x in final_path]))"
   ]
  },
  {
   "cell_type": "code",
   "execution_count": 11,
   "id": "7818c57d-2548-4ac2-ad4e-50c3444283e9",
   "metadata": {},
   "outputs": [
    {
     "name": "stdout",
     "output_type": "stream",
     "text": [
      "This is the path from Canada Water to Stratford founded by BFS with reverse order:\n",
      "[('Canada Water', None, 0), ('Canary Wharf', 'Jubilee', 3), ('North Greenwich', 'Jubilee', 3), ('Canning Town', 'Jubilee', 3), ('West Ham', 'Jubilee', 3), ('Stratford', 'Jubilee', 3)]\n",
      "--------------------------------------\n",
      "Number of expanded nodes is:\n",
      "19\n",
      "--------------------------------------\n",
      "The path cost is:\n",
      "15\n"
     ]
    }
   ],
   "source": [
    "## Test BFS Reverse\n",
    "start_station = 'Canada Water'\n",
    "end_station = 'Stratford'\n",
    "already_visited = []\n",
    "line = None\n",
    "cost = 0\n",
    "final_path = bfs(reverse_station_dict, start_station, end_station, already_visited, line, cost)\n",
    "print('This is the path from {} to {} founded by BFS with reverse order:'.format(start_station, end_station))\n",
    "print(final_path)\n",
    "print('--------------------------------------')\n",
    "print('Number of expanded nodes is:')\n",
    "print(len(already_visited))\n",
    "print('--------------------------------------')\n",
    "print('The path cost is:')\n",
    "print(sum([x[2] for x in final_path]))"
   ]
  },
  {
   "cell_type": "markdown",
   "id": "49084f28-d7cd-42e2-97f7-80bb2488bc4c",
   "metadata": {},
   "source": [
    "## 2-1-3 UCS"
   ]
  },
  {
   "cell_type": "code",
   "execution_count": 12,
   "id": "1ebaf3cd-e695-4a0b-acde-ad716f2c169f",
   "metadata": {},
   "outputs": [],
   "source": [
    "from queue import PriorityQueue\n",
    "\n",
    "def ucs(graph, start, destination, already_visited):\n",
    "    p_queue = PriorityQueue()\n",
    "    p_queue.put((0, [(start, None, 0)]))\n",
    "    ## The structure of our Priority Queue is: [(path_cost1, [(station1, line, cost), (station2, line, cost), ...]), (path_cost2, [path2]), ...]\n",
    "    \n",
    "    while not p_queue.empty():\n",
    "        ## Pick the element with lowest cost\n",
    "        path_cost, path = p_queue.get()\n",
    "        node = path[-1][0]\n",
    "        line = path[-1][1]\n",
    "        if node == destination:\n",
    "            already_visited.append((node, line))\n",
    "            return path, path_cost\n",
    "        if (node, line) not in already_visited:\n",
    "            already_visited.append((node, line))\n",
    "            for neighbour, cost, line in graph[node]:\n",
    "                new_path = path + [(neighbour, line, cost)]\n",
    "                new_cost = path_cost + cost\n",
    "                p_queue.put((new_cost, new_path))\n",
    "                # if neighbour == destination:\n",
    "                #     already_visited.append(neighbour)\n",
    "                #     return new_path, new_cost\n",
    "    return None"
   ]
  },
  {
   "cell_type": "code",
   "execution_count": 13,
   "id": "88aad50a-ae73-4be1-9aa6-df544e40c8b2",
   "metadata": {},
   "outputs": [],
   "source": [
    "# from queue import PriorityQueue\n",
    "\n",
    "# a = PriorityQueue()\n",
    "# a.put((10,['a', 'b', 'c', 'd']))\n",
    "# a.put((12,['b', 'g']))\n",
    "# b, d = a.get()\n",
    "# print(b)\n",
    "# print(d)"
   ]
  },
  {
   "cell_type": "code",
   "execution_count": 14,
   "id": "a374fd5e-e0f9-4645-bd8e-600fab6c7b7d",
   "metadata": {},
   "outputs": [
    {
     "name": "stdout",
     "output_type": "stream",
     "text": [
      "This is the path from Canada Water to Stratford founded by UCS:\n",
      "[('Canada Water', None, 0), ('Rotherhithe', 'East London', 1), ('Wapping', 'East London', 1), ('Shadwell', 'East London', 1), ('Whitechapel', 'East London', 2), ('Stepney Green', 'District', 3), ('Mile End', 'District', 2), ('Stratford', 'Central', 4)]\n",
      "--------------------------------------\n",
      "Number of expanded nodes is:\n",
      "106\n",
      "--------------------------------------\n",
      "The path cost is:\n",
      "14\n"
     ]
    }
   ],
   "source": [
    "## Test UCS\n",
    "start_station = 'Canada Water'\n",
    "end_station = 'Stratford'\n",
    "already_visited = []\n",
    "final_path, cost = ucs(station_dict, start_station, end_station, already_visited)\n",
    "print('This is the path from {} to {} founded by UCS:'.format(start_station, end_station))\n",
    "print(final_path)\n",
    "print('--------------------------------------')\n",
    "print('Number of expanded nodes is:')\n",
    "print(len(already_visited))\n",
    "print('--------------------------------------')\n",
    "print('The path cost is:')\n",
    "print(cost)"
   ]
  },
  {
   "cell_type": "code",
   "execution_count": 15,
   "id": "756f86dd-ea27-4361-8121-3db56aefe616",
   "metadata": {},
   "outputs": [
    {
     "name": "stdout",
     "output_type": "stream",
     "text": [
      "This is the path from Canada Water to Stratford founded by UCS with reverse order:\n",
      "[('Canada Water', None, 0), ('Rotherhithe', 'East London', 1), ('Wapping', 'East London', 1), ('Shadwell', 'East London', 1), ('Whitechapel', 'East London', 2), ('Stepney Green', 'District', 3), ('Mile End', 'District', 2), ('Stratford', 'Central', 4)]\n",
      "--------------------------------------\n",
      "Number of expanded nodes is:\n",
      "106\n",
      "--------------------------------------\n",
      "The path cost is:\n",
      "14\n"
     ]
    }
   ],
   "source": [
    "## UCS Reverse\n",
    "start_station = 'Canada Water'\n",
    "end_station = 'Stratford'\n",
    "already_visited = []\n",
    "final_path, cost = ucs(reverse_station_dict, start_station, end_station, already_visited)\n",
    "print('This is the path from {} to {} founded by UCS with reverse order:'.format(start_station, end_station))\n",
    "print(final_path)\n",
    "print('--------------------------------------')\n",
    "print('Number of expanded nodes is:')\n",
    "print(len(already_visited))\n",
    "print('--------------------------------------')\n",
    "print('The path cost is:')\n",
    "print(cost)"
   ]
  },
  {
   "cell_type": "markdown",
   "id": "2ca30ab1-d4d8-4456-b269-e8b89384bf0d",
   "metadata": {},
   "source": [
    "# 2-3 Extending the cost function"
   ]
  },
  {
   "cell_type": "code",
   "execution_count": 16,
   "id": "85de76b6-6874-49cc-bfc9-ce17aec90d7e",
   "metadata": {},
   "outputs": [],
   "source": [
    "def compute_path_cost(path, time_cost):\n",
    "    curr_line = path[1][1]\n",
    "    path_cost = 0\n",
    "    for item in path[1:]:\n",
    "        path_cost += item[2]\n",
    "        if curr_line != item[1]:\n",
    "            path_cost += time_cost\n",
    "            curr_line = item[1]\n",
    "    return path_cost"
   ]
  },
  {
   "cell_type": "code",
   "execution_count": 17,
   "id": "f7d88a65-4855-4a37-bb24-8bbd0f83ea18",
   "metadata": {},
   "outputs": [
    {
     "name": "stdout",
     "output_type": "stream",
     "text": [
      "This is the path from Ealing Broadway to South Kensington founded by DFS:\n",
      "[('Ealing Broadway', None, 0), ('West Acton', 'Central', 3), ('Ealing Broadway', 'Central', 3), ('Ealing Common', 'District', 4), ('Acton Town', 'District', 2), ('Chiswick Park', 'District', 2), ('Turnham Green', 'District', 2), ('Stamford Brook', 'District', 1), ('Ravenscourt Park', 'District', 2), ('Hammersmith', 'District', 2), ('Barons Court', 'District', 1), ('West Kensington', 'District', 2), (\"Earls' Court\", 'District', 2), ('High Street Kensington', 'District', 3), ('Gloucester Road', 'Circle', 4), ('South Kensington', 'Circle', 1)]\n",
      "--------------------------------------\n",
      "Number of expanded nodes is:\n",
      "29\n",
      "--------------------------------------\n",
      "The path cost is:\n",
      "38\n"
     ]
    }
   ],
   "source": [
    "## Test dfs\n",
    "start_station = 'Ealing Broadway'\n",
    "end_station = 'South Kensington'\n",
    "already_visited = []\n",
    "path = []\n",
    "line = None\n",
    "cost = 0\n",
    "final_path = dfs(station_dict, start_station, end_station, already_visited, path, line, cost)\n",
    "print('This is the path from {} to {} founded by DFS:'.format(start_station, end_station))\n",
    "print(final_path)\n",
    "print('--------------------------------------')\n",
    "print('Number of expanded nodes is:')\n",
    "print(len(already_visited))\n",
    "print('--------------------------------------')\n",
    "print('The path cost is:')\n",
    "print(compute_path_cost(final_path, time_cost=2))"
   ]
  },
  {
   "cell_type": "code",
   "execution_count": 18,
   "id": "95cfb7c2-7b1b-42a0-94bd-0212e67db2e7",
   "metadata": {},
   "outputs": [
    {
     "name": "stdout",
     "output_type": "stream",
     "text": [
      "This is the path from Ealing Broadway to South Kensington founded by BFS:\n",
      "[('Ealing Broadway', None, 0), ('Ealing Common', 'District', 4), ('Acton Town', 'District', 2), ('Turnham Green', 'Piccadilly', 3), ('Hammersmith', 'Piccadilly', 3), ('Barons Court', 'District', 1), (\"Earls' Court\", 'Piccadilly', 3), ('Gloucester Road', 'District', 3), ('South Kensington', 'Circle', 1)]\n",
      "--------------------------------------\n",
      "Number of expanded nodes is:\n",
      "53\n",
      "--------------------------------------\n",
      "The path cost is:\n",
      "30\n"
     ]
    }
   ],
   "source": [
    "## Test bfs\n",
    "start_station = 'Ealing Broadway'\n",
    "end_station = 'South Kensington'\n",
    "already_visited = []\n",
    "line = None\n",
    "cost = 0\n",
    "final_path = bfs(station_dict, start_station, end_station, already_visited, line, cost)\n",
    "print('This is the path from {} to {} founded by BFS:'.format(start_station, end_station))\n",
    "print(final_path)\n",
    "print('--------------------------------------')\n",
    "print('Number of expanded nodes is:')\n",
    "print(len(already_visited))\n",
    "print('--------------------------------------')\n",
    "print('The path cost is:')\n",
    "print(compute_path_cost(final_path, time_cost=2))"
   ]
  },
  {
   "cell_type": "code",
   "execution_count": 19,
   "id": "56dbcda0-f5aa-4984-a959-9a70ff29f561",
   "metadata": {},
   "outputs": [],
   "source": [
    "def ucs_time(graph, start, destination, already_visited, station_line_dict, time_cost):\n",
    "    p_queue = PriorityQueue()\n",
    "    p_queue.put((0, [(start, None, 0)]))\n",
    "    ## The structure of our Priority Queue is: [(path_cost1, [(station1, line, cost), (station2, line, cost), ...]), (path_cost2, [path2]), ...]\n",
    "    \n",
    "    while not p_queue.empty():\n",
    "        ## Pick the element with lowest cost\n",
    "        path_cost, path = p_queue.get()\n",
    "        node = path[-1][0]\n",
    "        line = path[-1][1]\n",
    "        if node == destination:\n",
    "            already_visited.append((node, line))\n",
    "            return path, path_cost\n",
    "        if (node, line) not in already_visited:\n",
    "            already_visited.append((node, line))\n",
    "            for neighbour, cost, line in graph[node]:\n",
    "                # already_visited.append(neighbour)\n",
    "                new_path = path + [(neighbour, line, cost)]\n",
    "                new_cost = path_cost + cost\n",
    "                if line != path[-1][1] and path[-1][1] != None:\n",
    "                    new_cost += time_cost\n",
    "                p_queue.put((new_cost, new_path))\n",
    "    return None"
   ]
  },
  {
   "cell_type": "code",
   "execution_count": 20,
   "id": "6b5dd662-cd83-441d-833c-ca0543f49aac",
   "metadata": {},
   "outputs": [],
   "source": [
    "# min([('a', 45), ('b', 23), ('c', -1)], key=lambda tup: tup[1])"
   ]
  },
  {
   "cell_type": "code",
   "execution_count": 21,
   "id": "495de4aa-cd7e-4772-b980-d74e80b6953a",
   "metadata": {},
   "outputs": [
    {
     "name": "stdout",
     "output_type": "stream",
     "text": [
      "This is the path from Ealing Broadway to South Kensington founded by UCS:\n",
      "[('Ealing Broadway', None, 0), ('Ealing Common', 'District', 4), ('Acton Town', 'District', 2), ('Turnham Green', 'Piccadilly', 3), ('Hammersmith', 'Piccadilly', 3), ('Barons Court', 'Piccadilly', 2), (\"Earls' Court\", 'Piccadilly', 3), ('Gloucester Road', 'Piccadilly', 2), ('South Kensington', 'Piccadilly', 1)]\n",
      "--------------------------------------\n",
      "Number of expanded nodes is:\n",
      "60\n",
      "--------------------------------------\n",
      "The path cost is:\n",
      "22\n"
     ]
    }
   ],
   "source": [
    "## Test UCS\n",
    "start_station = 'Ealing Broadway'\n",
    "end_station = 'South Kensington'\n",
    "already_visited = []\n",
    "final_path, cost = ucs_time(station_dict, start_station, end_station, already_visited, station_line_dict, time_cost=2)\n",
    "print('This is the path from {} to {} founded by UCS:'.format(start_station, end_station))\n",
    "print(final_path)\n",
    "print('--------------------------------------')\n",
    "print('Number of expanded nodes is:')\n",
    "print(len(already_visited))\n",
    "print('--------------------------------------')\n",
    "print('The path cost is:')\n",
    "print(cost)"
   ]
  },
  {
   "cell_type": "markdown",
   "id": "3a2aaea8-bad2-474d-bd44-f251f0f0cc14",
   "metadata": {},
   "source": [
    "# Heuristic"
   ]
  },
  {
   "cell_type": "code",
   "execution_count": 22,
   "id": "653fce64-80ab-4570-90a4-2c4f1846623b",
   "metadata": {},
   "outputs": [
    {
     "data": {
      "text/html": [
       "<div>\n",
       "<style scoped>\n",
       "    .dataframe tbody tr th:only-of-type {\n",
       "        vertical-align: middle;\n",
       "    }\n",
       "\n",
       "    .dataframe tbody tr th {\n",
       "        vertical-align: top;\n",
       "    }\n",
       "\n",
       "    .dataframe thead th {\n",
       "        text-align: right;\n",
       "    }\n",
       "</style>\n",
       "<table border=\"1\" class=\"dataframe\">\n",
       "  <thead>\n",
       "    <tr style=\"text-align: right;\">\n",
       "      <th></th>\n",
       "      <th>FID</th>\n",
       "      <th>OBJECTID</th>\n",
       "      <th>NAME</th>\n",
       "      <th>EASTING</th>\n",
       "      <th>NORTHING</th>\n",
       "      <th>LINES</th>\n",
       "      <th>NETWORK</th>\n",
       "      <th>Zone</th>\n",
       "      <th>x</th>\n",
       "      <th>y</th>\n",
       "    </tr>\n",
       "  </thead>\n",
       "  <tbody>\n",
       "    <tr>\n",
       "      <th>0</th>\n",
       "      <td>0</td>\n",
       "      <td>78</td>\n",
       "      <td>Temple</td>\n",
       "      <td>530959</td>\n",
       "      <td>180803</td>\n",
       "      <td>District, Circle</td>\n",
       "      <td>London Underground</td>\n",
       "      <td>1</td>\n",
       "      <td>-0.112644</td>\n",
       "      <td>51.510474</td>\n",
       "    </tr>\n",
       "    <tr>\n",
       "      <th>1</th>\n",
       "      <td>1</td>\n",
       "      <td>79</td>\n",
       "      <td>Blackfriars</td>\n",
       "      <td>531694</td>\n",
       "      <td>180893</td>\n",
       "      <td>District, Circle</td>\n",
       "      <td>London Underground</td>\n",
       "      <td>1</td>\n",
       "      <td>-0.102020</td>\n",
       "      <td>51.511114</td>\n",
       "    </tr>\n",
       "    <tr>\n",
       "      <th>2</th>\n",
       "      <td>2</td>\n",
       "      <td>80</td>\n",
       "      <td>Mansion House</td>\n",
       "      <td>532354</td>\n",
       "      <td>180932</td>\n",
       "      <td>District, Circle</td>\n",
       "      <td>London Underground</td>\n",
       "      <td>1</td>\n",
       "      <td>-0.092495</td>\n",
       "      <td>51.511306</td>\n",
       "    </tr>\n",
       "    <tr>\n",
       "      <th>3</th>\n",
       "      <td>3</td>\n",
       "      <td>81</td>\n",
       "      <td>Cannon Street</td>\n",
       "      <td>532611</td>\n",
       "      <td>180900</td>\n",
       "      <td>District, Circle</td>\n",
       "      <td>London Underground</td>\n",
       "      <td>1</td>\n",
       "      <td>-0.088801</td>\n",
       "      <td>51.510963</td>\n",
       "    </tr>\n",
       "    <tr>\n",
       "      <th>4</th>\n",
       "      <td>4</td>\n",
       "      <td>82</td>\n",
       "      <td>Monument</td>\n",
       "      <td>532912</td>\n",
       "      <td>180824</td>\n",
       "      <td>District, Circle</td>\n",
       "      <td>London Underground</td>\n",
       "      <td>1</td>\n",
       "      <td>-0.084502</td>\n",
       "      <td>51.510209</td>\n",
       "    </tr>\n",
       "  </tbody>\n",
       "</table>\n",
       "</div>"
      ],
      "text/plain": [
       "   FID  OBJECTID           NAME  EASTING  NORTHING             LINES  \\\n",
       "0    0        78         Temple   530959    180803  District, Circle   \n",
       "1    1        79    Blackfriars   531694    180893  District, Circle   \n",
       "2    2        80  Mansion House   532354    180932  District, Circle   \n",
       "3    3        81  Cannon Street   532611    180900  District, Circle   \n",
       "4    4        82       Monument   532912    180824  District, Circle   \n",
       "\n",
       "              NETWORK  Zone         x          y  \n",
       "0  London Underground     1 -0.112644  51.510474  \n",
       "1  London Underground     1 -0.102020  51.511114  \n",
       "2  London Underground     1 -0.092495  51.511306  \n",
       "3  London Underground     1 -0.088801  51.510963  \n",
       "4  London Underground     1 -0.084502  51.510209  "
      ]
     },
     "execution_count": 22,
     "metadata": {},
     "output_type": "execute_result"
    }
   ],
   "source": [
    "df = pd.read_csv(\"stations-coordination.csv\") \n",
    "df.head()"
   ]
  },
  {
   "cell_type": "code",
   "execution_count": 23,
   "id": "55a99e92-41df-4d09-b913-ba2c2b336eac",
   "metadata": {},
   "outputs": [
    {
     "data": {
      "text/plain": [
       "array([181567, 181646, 181567])"
      ]
     },
     "execution_count": 23,
     "metadata": {},
     "output_type": "execute_result"
    }
   ],
   "source": [
    "df.loc[ (df['NAME'].str.contains('Liverpool Street'))]['NORTHING'].values"
   ]
  },
  {
   "cell_type": "code",
   "execution_count": 24,
   "id": "6de4c8b5-2441-446d-b780-60e953c7e4a1",
   "metadata": {},
   "outputs": [],
   "source": [
    "def build_station_coord(station_dict, df):\n",
    "    station_coord_dict = defaultdict(tuple)\n",
    "    ## Some exceptions!\n",
    "    station_coord_dict['Bank/Monument'] = (532912, 180824)\n",
    "    station_coord_dict[\"St. James' Park\"] = (529647, 179498)\n",
    "    station_coord_dict[\"Earls' Court\"] = (525534, 178552)\n",
    "    station_coord_dict['Heathrow Terminal 3'] = (507586, 174430)\n",
    "    station_coord_dict['Edgware Road'] = (527220, 181697)\n",
    "    station_coord_dict['Paddington'] = (526459, 181527)\n",
    "    station_coord_dict['Hammersmith'] = (523325, 178698)\n",
    "    station_coord_dict['Olympia'] = (524342, 179162)\n",
    "    station_coord_dict['Shoreditch'] = (533555, 182248)\n",
    "        \n",
    "    for station in station_dict.keys():\n",
    "        if station in ['Lensington', 'Wimbeldon', 'Kensington', 'Elmers End', 'Mitcham Junction']:\n",
    "            continue\n",
    "        if station in ['Bank/Monument', \"St. James' Park\", \"Earls' Court\", 'Heathrow Terminal 3', 'Edgware Road',\n",
    "                      'Paddington', 'Hammersmith', 'Olympia', 'Shoreditch']:\n",
    "            continue\n",
    "            \n",
    "        x = df.loc[ (df['NAME'] == station) ]['EASTING'].values[0]\n",
    "        y = df.loc[ (df['NAME'] == station) ]['NORTHING'].values[0]\n",
    "        station_coord_dict[station] = (x, y)\n",
    "    \n",
    "    return station_coord_dict\n"
   ]
  },
  {
   "cell_type": "code",
   "execution_count": 25,
   "id": "1a43caf8-d1bd-42b0-8cb9-5a560402dfa8",
   "metadata": {},
   "outputs": [],
   "source": [
    "## Building the dictionary for station coordination\n",
    "station_coord_dict = build_station_coord(station_dict, df)"
   ]
  },
  {
   "cell_type": "code",
   "execution_count": 26,
   "id": "5360167e-0454-4ec8-9bbb-e442831edb93",
   "metadata": {},
   "outputs": [],
   "source": [
    "# station_coord_dict"
   ]
  },
  {
   "cell_type": "code",
   "execution_count": 27,
   "id": "9d464697-9995-4bed-9592-565952db8c9b",
   "metadata": {},
   "outputs": [],
   "source": [
    "import math\n",
    "\n",
    "\n",
    "def heuristic(station_coord_dict, station, destination):\n",
    "    x, y = station_coord_dict[station]\n",
    "    target_x, target_y = station_coord_dict[destination]\n",
    "    dist = math.dist([x, y], [target_x, target_y])\n",
    "    return dist"
   ]
  },
  {
   "cell_type": "code",
   "execution_count": 28,
   "id": "b6109421-9f61-4762-a2f8-5578b382d7c8",
   "metadata": {},
   "outputs": [],
   "source": [
    "# for station in station_dict.keys():\n",
    "#     for neighbour, cost, line in station_dict[station]:\n",
    "#         print(station, neighbour, line, cost, heuristic(station_coord_dict, station, neighbour))"
   ]
  },
  {
   "cell_type": "code",
   "execution_count": 29,
   "id": "7f4bc97b-8c82-4d3f-9e6f-0586eff04284",
   "metadata": {},
   "outputs": [],
   "source": [
    "\n",
    "def best_first_search(graph, start, destination, already_visited, station_line_dict, station_coord_dict, time_cost):\n",
    "    p_queue = PriorityQueue()\n",
    "    p_queue.put((0, [(start, None, 0)]))\n",
    "    ## The structure of our Priority Queue is: [(heur_cost, [(station1, line, cost), (station2, line, cost), ...]), (Heuristic, [path2]), ...]\n",
    "    \n",
    "    while not p_queue.empty():\n",
    "        ## Pick the element with lowest cost\n",
    "        a, path = p_queue.get()\n",
    "        node = path[-1][0]\n",
    "        line = path[-1][1]\n",
    "        if (node, line) not in already_visited:\n",
    "            already_visited.append((node, line))\n",
    "            for neighbour, cost, line in graph[node]:\n",
    "                new_path = path + [(neighbour, line, cost)]\n",
    "                heur_cost = heuristic(station_coord_dict, neighbour, destination)\n",
    "                # if line != path[-1][1] and path[-1][1] != None:\n",
    "                #     new_heur_cost += time_cost\n",
    "                p_queue.put((heur_cost, new_path))\n",
    "                if neighbour == destination:\n",
    "                    already_visited.append(neighbour)\n",
    "                    return new_path\n",
    "    return None"
   ]
  },
  {
   "cell_type": "code",
   "execution_count": 30,
   "id": "c5ac478c-87ea-445a-80f7-24510bad1f7c",
   "metadata": {},
   "outputs": [
    {
     "name": "stdout",
     "output_type": "stream",
     "text": [
      "This is the path from Epping to Dollis Hill founded by Best First Search:\n",
      "[('Epping', None, 0), ('Theydon Bois', 'Central', 2), ('Debden', 'Central', 3), ('Loughton', 'Central', 2), ('Buckhurst Hill', 'Central', 2), ('Woodford', 'Central', 3), ('South Woodford', 'Central', 2), ('Snaresbrook', 'Central', 2), ('Leytonstone', 'Central', 2), ('Leyton', 'Central', 3), ('Stratford', 'Central', 2), ('Mile End', 'Central', 4), ('Bethnal Green', 'Central', 2), ('Liverpool Street', 'Central', 3), ('Moorgate', 'Circle', 2), ('Barbican', 'Circle', 2), ('Farringdon', 'Circle', 1), (\"King's Cross St. Pancras\", 'Circle', 4), ('Euston Square', 'Circle', 2), ('Great Portland Street', 'Circle', 2), ('Baker Street', 'Circle', 3), ('Finchley Road', 'Metropolitan', 6), ('Wembley Park', 'Metropolitan', 7), ('Neasden', 'Jubilee', 4), ('Dollis Hill', 'Jubilee', 2)]\n",
      "--------------------------------------\n",
      "Number of expanded nodes is:\n",
      "48\n",
      "--------------------------------------\n",
      "The path cost is:\n",
      "73\n"
     ]
    }
   ],
   "source": [
    "start_station = 'Epping'\n",
    "end_station = 'Dollis Hill'\n",
    "already_visited = []\n",
    "final_path = best_first_search(station_dict, start_station, end_station, already_visited, station_line_dict,\n",
    "                                     station_coord_dict, time_cost=2)\n",
    "print('This is the path from {} to {} founded by Best First Search:'.format(start_station, end_station))\n",
    "print(final_path)\n",
    "print('--------------------------------------')\n",
    "print('Number of expanded nodes is:')\n",
    "print(len(already_visited))\n",
    "print('--------------------------------------')\n",
    "print('The path cost is:')\n",
    "print(compute_path_cost(final_path, time_cost=2))"
   ]
  },
  {
   "cell_type": "code",
   "execution_count": 31,
   "id": "7383abaa-a651-4134-b47e-9e2c205a45ba",
   "metadata": {},
   "outputs": [
    {
     "name": "stdout",
     "output_type": "stream",
     "text": [
      "This is the path from Epping to Dollis Hill founded by UCS:\n",
      "[('Epping', None, 0), ('Theydon Bois', 'Central', 2), ('Debden', 'Central', 3), ('Loughton', 'Central', 2), ('Buckhurst Hill', 'Central', 2), ('Woodford', 'Central', 3), ('South Woodford', 'Central', 2), ('Snaresbrook', 'Central', 2), ('Leytonstone', 'Central', 2), ('Leyton', 'Central', 3), ('Stratford', 'Central', 2), ('Mile End', 'Central', 4), ('Bethnal Green', 'Central', 2), ('Liverpool Street', 'Central', 3), ('Bank/Monument', 'Central', 2), (\"St. Paul's\", 'Central', 2), ('Chancery Lane', 'Central', 2), ('Holborn', 'Central', 1), ('Tottenham Court Road', 'Central', 2), ('Oxford Circus', 'Central', 2), ('Bond Street', 'Central', 1), ('Baker Street', 'Jubilee', 2), (\"St. John's Wood\", 'Jubilee', 4), ('Swiss Cottage', 'Jubilee', 1), ('Finchley Road', 'Jubilee', 2), ('West Hampstead', 'Jubilee', 1), ('Kilburn', 'Jubilee', 2), ('Willesden Green', 'Jubilee', 2), ('Dollis Hill', 'Jubilee', 2)]\n",
      "--------------------------------------\n",
      "Number of expanded nodes is:\n",
      "270\n",
      "--------------------------------------\n",
      "The path cost is:\n",
      "62\n"
     ]
    }
   ],
   "source": [
    "## Test UCS\n",
    "start_station = 'Epping'\n",
    "end_station = 'Dollis Hill'\n",
    "already_visited = []\n",
    "final_path, cost = ucs_time(station_dict, start_station, end_station, already_visited, station_line_dict, time_cost=2)\n",
    "print('This is the path from {} to {} founded by UCS:'.format(start_station, end_station))\n",
    "print(final_path)\n",
    "print('--------------------------------------')\n",
    "print('Number of expanded nodes is:')\n",
    "print(len(already_visited))\n",
    "print('--------------------------------------')\n",
    "print('The path cost is:')\n",
    "print(cost)"
   ]
  },
  {
   "cell_type": "code",
   "execution_count": null,
   "id": "5921b21b-1720-4508-979e-b106fc68395b",
   "metadata": {},
   "outputs": [],
   "source": []
  }
 ],
 "metadata": {
  "kernelspec": {
   "display_name": "Python 3 (ipykernel)",
   "language": "python",
   "name": "python3"
  },
  "language_info": {
   "codemirror_mode": {
    "name": "ipython",
    "version": 3
   },
   "file_extension": ".py",
   "mimetype": "text/x-python",
   "name": "python",
   "nbconvert_exporter": "python",
   "pygments_lexer": "ipython3",
   "version": "3.10.6"
  }
 },
 "nbformat": 4,
 "nbformat_minor": 5
}
